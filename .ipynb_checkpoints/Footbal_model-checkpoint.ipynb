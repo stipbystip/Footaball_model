{
 "cells": [
  {
   "cell_type": "code",
   "execution_count": 12,
   "id": "29fefcca",
   "metadata": {
    "scrolled": false
   },
   "outputs": [],
   "source": [
    "import numpy as np\n",
    "import pandas as pd\n",
    "import matplotlib.pyplot as plt\n",
    "\n",
    "from sklearn.model_selection import train_test_split\n",
    "from sklearn.metrics import f1_score\n",
    "from sklearn.ensemble import RandomForestClassifier\n",
    "from sklearn.model_selection import GridSearchCV"
   ]
  },
  {
   "cell_type": "code",
   "execution_count": 13,
   "id": "eafbf2fd",
   "metadata": {},
   "outputs": [],
   "source": [
    "from catboost import CatBoostClassifier"
   ]
  },
  {
   "cell_type": "code",
   "execution_count": 14,
   "id": "0bce753a",
   "metadata": {},
   "outputs": [
    {
     "data": {
      "text/html": [
       "<div>\n",
       "<style scoped>\n",
       "    .dataframe tbody tr th:only-of-type {\n",
       "        vertical-align: middle;\n",
       "    }\n",
       "\n",
       "    .dataframe tbody tr th {\n",
       "        vertical-align: top;\n",
       "    }\n",
       "\n",
       "    .dataframe thead th {\n",
       "        text-align: right;\n",
       "    }\n",
       "</style>\n",
       "<table border=\"1\" class=\"dataframe\">\n",
       "  <thead>\n",
       "    <tr style=\"text-align: right;\">\n",
       "      <th></th>\n",
       "      <th>result_game</th>\n",
       "      <th>count_matches_team1</th>\n",
       "      <th>count_matches_team2</th>\n",
       "      <th>winrate_team1</th>\n",
       "      <th>winrate_team2</th>\n",
       "      <th>luse_rate_team1</th>\n",
       "      <th>luse_rate_team2</th>\n",
       "      <th>drow_rate_team1</th>\n",
       "      <th>drow_rate_team2</th>\n",
       "      <th>total_avg_team1_in_match</th>\n",
       "      <th>...</th>\n",
       "      <th>ind_oponent_total_save_team2</th>\n",
       "      <th>save_total_in_match_team1</th>\n",
       "      <th>save_total_in_match_team2</th>\n",
       "      <th>ind_possession_time_team1</th>\n",
       "      <th>ind_possession_time_team2</th>\n",
       "      <th>ind_oponent_possession_time_team1</th>\n",
       "      <th>ind_oponent_possession_time_team2</th>\n",
       "      <th>count_collision</th>\n",
       "      <th>win_in_collision_team1</th>\n",
       "      <th>win_in_collision_team2</th>\n",
       "    </tr>\n",
       "  </thead>\n",
       "  <tbody>\n",
       "    <tr>\n",
       "      <th>0</th>\n",
       "      <td>0</td>\n",
       "      <td>48</td>\n",
       "      <td>50</td>\n",
       "      <td>41.666667</td>\n",
       "      <td>48.0</td>\n",
       "      <td>18.75</td>\n",
       "      <td>16.0</td>\n",
       "      <td>39.583333</td>\n",
       "      <td>36.0</td>\n",
       "      <td>3.0</td>\n",
       "      <td>...</td>\n",
       "      <td>3.2</td>\n",
       "      <td>7.5</td>\n",
       "      <td>5.8</td>\n",
       "      <td>58</td>\n",
       "      <td>54</td>\n",
       "      <td>42</td>\n",
       "      <td>46</td>\n",
       "      <td>2</td>\n",
       "      <td>1</td>\n",
       "      <td>1</td>\n",
       "    </tr>\n",
       "    <tr>\n",
       "      <th>1</th>\n",
       "      <td>1</td>\n",
       "      <td>50</td>\n",
       "      <td>50</td>\n",
       "      <td>54.000000</td>\n",
       "      <td>32.0</td>\n",
       "      <td>16.00</td>\n",
       "      <td>32.0</td>\n",
       "      <td>30.000000</td>\n",
       "      <td>36.0</td>\n",
       "      <td>3.4</td>\n",
       "      <td>...</td>\n",
       "      <td>2.7</td>\n",
       "      <td>6.3</td>\n",
       "      <td>5.7</td>\n",
       "      <td>50</td>\n",
       "      <td>47</td>\n",
       "      <td>50</td>\n",
       "      <td>53</td>\n",
       "      <td>19</td>\n",
       "      <td>14</td>\n",
       "      <td>2</td>\n",
       "    </tr>\n",
       "    <tr>\n",
       "      <th>2</th>\n",
       "      <td>-1</td>\n",
       "      <td>50</td>\n",
       "      <td>50</td>\n",
       "      <td>38.000000</td>\n",
       "      <td>38.0</td>\n",
       "      <td>20.00</td>\n",
       "      <td>26.0</td>\n",
       "      <td>42.000000</td>\n",
       "      <td>36.0</td>\n",
       "      <td>3.0</td>\n",
       "      <td>...</td>\n",
       "      <td>3.3</td>\n",
       "      <td>6.9</td>\n",
       "      <td>7.5</td>\n",
       "      <td>48</td>\n",
       "      <td>53</td>\n",
       "      <td>52</td>\n",
       "      <td>47</td>\n",
       "      <td>16</td>\n",
       "      <td>3</td>\n",
       "      <td>11</td>\n",
       "    </tr>\n",
       "    <tr>\n",
       "      <th>3</th>\n",
       "      <td>0</td>\n",
       "      <td>50</td>\n",
       "      <td>50</td>\n",
       "      <td>24.000000</td>\n",
       "      <td>12.0</td>\n",
       "      <td>28.00</td>\n",
       "      <td>12.0</td>\n",
       "      <td>48.000000</td>\n",
       "      <td>76.0</td>\n",
       "      <td>2.3</td>\n",
       "      <td>...</td>\n",
       "      <td>2.8</td>\n",
       "      <td>6.1</td>\n",
       "      <td>6.4</td>\n",
       "      <td>42</td>\n",
       "      <td>48</td>\n",
       "      <td>58</td>\n",
       "      <td>52</td>\n",
       "      <td>2</td>\n",
       "      <td>2</td>\n",
       "      <td>0</td>\n",
       "    </tr>\n",
       "    <tr>\n",
       "      <th>4</th>\n",
       "      <td>-1</td>\n",
       "      <td>50</td>\n",
       "      <td>50</td>\n",
       "      <td>36.000000</td>\n",
       "      <td>24.0</td>\n",
       "      <td>24.00</td>\n",
       "      <td>30.0</td>\n",
       "      <td>40.000000</td>\n",
       "      <td>46.0</td>\n",
       "      <td>3.4</td>\n",
       "      <td>...</td>\n",
       "      <td>3.4</td>\n",
       "      <td>6.1</td>\n",
       "      <td>6.7</td>\n",
       "      <td>54</td>\n",
       "      <td>48</td>\n",
       "      <td>46</td>\n",
       "      <td>52</td>\n",
       "      <td>17</td>\n",
       "      <td>8</td>\n",
       "      <td>4</td>\n",
       "    </tr>\n",
       "  </tbody>\n",
       "</table>\n",
       "<p>5 rows × 78 columns</p>\n",
       "</div>"
      ],
      "text/plain": [
       "   result_game  count_matches_team1  count_matches_team2  winrate_team1  \\\n",
       "0            0                   48                   50      41.666667   \n",
       "1            1                   50                   50      54.000000   \n",
       "2           -1                   50                   50      38.000000   \n",
       "3            0                   50                   50      24.000000   \n",
       "4           -1                   50                   50      36.000000   \n",
       "\n",
       "   winrate_team2  luse_rate_team1  luse_rate_team2  drow_rate_team1  \\\n",
       "0           48.0            18.75             16.0        39.583333   \n",
       "1           32.0            16.00             32.0        30.000000   \n",
       "2           38.0            20.00             26.0        42.000000   \n",
       "3           12.0            28.00             12.0        48.000000   \n",
       "4           24.0            24.00             30.0        40.000000   \n",
       "\n",
       "   drow_rate_team2  total_avg_team1_in_match  ...  \\\n",
       "0             36.0                       3.0  ...   \n",
       "1             36.0                       3.4  ...   \n",
       "2             36.0                       3.0  ...   \n",
       "3             76.0                       2.3  ...   \n",
       "4             46.0                       3.4  ...   \n",
       "\n",
       "   ind_oponent_total_save_team2  save_total_in_match_team1  \\\n",
       "0                           3.2                        7.5   \n",
       "1                           2.7                        6.3   \n",
       "2                           3.3                        6.9   \n",
       "3                           2.8                        6.1   \n",
       "4                           3.4                        6.1   \n",
       "\n",
       "   save_total_in_match_team2  ind_possession_time_team1  \\\n",
       "0                        5.8                         58   \n",
       "1                        5.7                         50   \n",
       "2                        7.5                         48   \n",
       "3                        6.4                         42   \n",
       "4                        6.7                         54   \n",
       "\n",
       "   ind_possession_time_team2  ind_oponent_possession_time_team1  \\\n",
       "0                         54                                 42   \n",
       "1                         47                                 50   \n",
       "2                         53                                 52   \n",
       "3                         48                                 58   \n",
       "4                         48                                 46   \n",
       "\n",
       "   ind_oponent_possession_time_team2  count_collision  win_in_collision_team1  \\\n",
       "0                                 46                2                       1   \n",
       "1                                 53               19                      14   \n",
       "2                                 47               16                       3   \n",
       "3                                 52                2                       2   \n",
       "4                                 52               17                       8   \n",
       "\n",
       "   win_in_collision_team2  \n",
       "0                       1  \n",
       "1                       2  \n",
       "2                      11  \n",
       "3                       0  \n",
       "4                       4  \n",
       "\n",
       "[5 rows x 78 columns]"
      ]
     },
     "execution_count": 14,
     "metadata": {},
     "output_type": "execute_result"
    }
   ],
   "source": [
    "dataset = pd.read_csv('test-f.csv')\n",
    "dataset.head()"
   ]
  },
  {
   "cell_type": "code",
   "execution_count": 15,
   "id": "db57c3ac",
   "metadata": {},
   "outputs": [],
   "source": [
    "X = dataset[dataset.columns[1:].values]\n",
    "y = dataset[dataset.columns[:1].values]"
   ]
  },
  {
   "cell_type": "code",
   "execution_count": 16,
   "id": "1ee0d953",
   "metadata": {},
   "outputs": [
    {
     "data": {
      "image/png": "[encoded data removed]",
      "text/plain": [
       "<Figure size 1440x504 with 1 Axes>"
      ]
     },
     "metadata": {
      "needs_background": "light"
     },
     "output_type": "display_data"
    }
   ],
   "source": [
    "plt.figure(figsize=(20,7))\n",
    "plt.hist(dataset[dataset.columns[0]].values)\n",
    "plt.show()"
   ]
  },
  {
   "cell_type": "code",
   "execution_count": 17,
   "id": "e3c1d846",
   "metadata": {},
   "outputs": [],
   "source": [
    "X_train, X_test, y_train, y_test = train_test_split(X, y, test_size=0.33, random_state=42)"
   ]
  },
  {
   "cell_type": "code",
   "execution_count": 18,
   "id": "d6847611",
   "metadata": {},
   "outputs": [
    {
     "name": "stdout",
     "output_type": "stream",
     "text": [
      "{'n_estimators': [50, 80, 110, 150], 'max_features': ['log2', 'sqrt'], 'max_depth': [4, 5, 6, 7], 'min_samples_split': [2, 7, 18, 25, 35, 50], 'min_samples_leaf': [2, 5, 14, 25, 34, 45], 'bootstrap': [True, False]}\n"
     ]
    },
    {
     "data": {
      "text/plain": [
       "GridSearchCV(cv=5, estimator=RandomForestClassifier(random_state=0), n_jobs=-1,\n",
       "             param_grid={'bootstrap': [True, False], 'max_depth': [4, 5, 6, 7],\n",
       "                         'max_features': ['log2', 'sqrt'],\n",
       "                         'min_samples_leaf': [2, 5, 14, 25, 34, 45],\n",
       "                         'min_samples_split': [2, 7, 18, 25, 35, 50],\n",
       "                         'n_estimators': [50, 80, 110, 150]},\n",
       "             scoring='f1_micro', verbose=3)"
      ]
     },
     "execution_count": 18,
     "metadata": {},
     "output_type": "execute_result"
    }
   ],
   "source": [
    "model = RandomForestClassifier(random_state=0)\n",
    "param_dist = {'n_estimators': [50, 80, 110, 150], \n",
    "               'max_features': ['log2', 'sqrt'],\n",
    "               'max_depth': [4, 5, 6, 7],\n",
    "               'min_samples_split': [2, 7, 18, 25, 35, 50],\n",
    "               'min_samples_leaf': [2, 5, 14, 25, 34, 45],\n",
    "               'bootstrap': [True, False]\n",
    "             }\n",
    "print(param_dist)\n",
    "grid_model = GridSearchCV(estimator = model,\n",
    "                    param_grid = param_dist,\n",
    "                    scoring='f1_micro',\n",
    "                    cv=5, \n",
    "                    verbose = 3,\n",
    "                    n_jobs=-1,\n",
    "                   )\n",
    "grid_model       "
   ]
  },
  {
   "cell_type": "code",
   "execution_count": 19,
   "id": "ccb0fc2b",
   "metadata": {},
   "outputs": [
    {
     "name": "stdout",
     "output_type": "stream",
     "text": [
      "Fitting 5 folds for each of 2304 candidates, totalling 11520 fits\n"
     ]
    },
    {
     "data": {
      "text/plain": [
       "GridSearchCV(cv=5, estimator=RandomForestClassifier(random_state=0), n_jobs=-1,\n",
       "             param_grid={'bootstrap': [True, False], 'max_depth': [4, 5, 6, 7],\n",
       "                         'max_features': ['log2', 'sqrt'],\n",
       "                         'min_samples_leaf': [2, 5, 14, 25, 34, 45],\n",
       "                         'min_samples_split': [2, 7, 18, 25, 35, 50],\n",
       "                         'n_estimators': [50, 80, 110, 150]},\n",
       "             scoring='f1_micro', verbose=3)"
      ]
     },
     "execution_count": 19,
     "metadata": {},
     "output_type": "execute_result"
    }
   ],
   "source": [
    "grid_model.fit(X_train, y_train.values.ravel())\n"
   ]
  },
  {
   "cell_type": "code",
   "execution_count": 20,
   "id": "4f87e677",
   "metadata": {},
   "outputs": [
    {
     "data": {
      "text/plain": [
       "{'bootstrap': True,\n",
       " 'max_depth': 6,\n",
       " 'max_features': 'log2',\n",
       " 'min_samples_leaf': 5,\n",
       " 'min_samples_split': 25,\n",
       " 'n_estimators': 110}"
      ]
     },
     "execution_count": 20,
     "metadata": {},
     "output_type": "execute_result"
    }
   ],
   "source": [
    "grid_model.best_params_"
   ]
  },
  {
   "cell_type": "code",
   "execution_count": 21,
   "id": "d5473502",
   "metadata": {},
   "outputs": [],
   "source": [
    " from sklearn.metrics import accuracy_score"
   ]
  },
  {
   "cell_type": "code",
   "execution_count": 23,
   "id": "addf3e76",
   "metadata": {},
   "outputs": [
    {
     "name": "stdout",
     "output_type": "stream",
     "text": [
      "[-1 -1  1  1  1  1 -1  1  1  1  1  1  1 -1  1  1 -1  1 -1  1  1  1  1  1\n",
      " -1  1 -1  1  1  1 -1  1  1  1  1 -1  1  1 -1  1  1  1 -1  1  1  1  1 -1\n",
      "  1  1  1  1  1 -1  1  1 -1  1  1  1  1  1 -1 -1  1 -1 -1  1 -1 -1  1 -1\n",
      "  1 -1  1  1  1  1  1  1  1  1  1  1 -1 -1  1 -1  1  1 -1 -1  1  1 -1  1\n",
      " -1 -1 -1  1 -1 -1  1 -1 -1  1 -1 -1 -1  1 -1  1 -1 -1  1  1  1 -1 -1 -1\n",
      " -1 -1 -1  1  1 -1  1  1  1  1  1  1  1 -1  1 -1 -1 -1  1  1  1 -1  1 -1\n",
      "  1  1  1  1 -1  1  1  1  1 -1 -1  1  1 -1  1  1  1  1 -1  1 -1  1  1 -1\n",
      " -1  1  1  1 -1  1  1  1  1 -1 -1  1 -1  1  1 -1  1 -1  1  1 -1  1  1  1\n",
      "  1  1 -1 -1  1 -1  1 -1  1  1  1  1 -1  1 -1  1  1  1  1  1  1  1  1  1\n",
      "  1 -1 -1  1  1 -1 -1  1  1  1 -1  1 -1  1  1  1  1  1  1  1  1 -1 -1  1\n",
      " -1 -1  1  1  1 -1 -1  1  1 -1  1  1  1  1  1  1 -1  1  1 -1  1  1 -1  1\n",
      " -1 -1  1 -1 -1 -1  1  1  1 -1  1 -1  1 -1  1  1 -1 -1  1  1 -1  1 -1 -1\n",
      " -1  1 -1  1  1 -1  1  1  1  1  1  1 -1  1  1 -1  1  1  1  1 -1  1  1  1\n",
      " -1  1  1 -1  1  1  1  1 -1 -1 -1 -1 -1  1  1  1 -1 -1 -1  1  1  1 -1  1\n",
      "  1 -1  1  1 -1 -1  1  1 -1  1  1  1  1 -1 -1  1  1  1 -1 -1  1  1 -1 -1\n",
      "  1 -1 -1 -1  1 -1 -1  1 -1  1  1  1  1  1 -1  1 -1 -1  1  1  1  1  1  1\n",
      " -1  1 -1 -1 -1  1 -1  1  1  1  1  1  1 -1 -1  1  1  1  1  1  1  1 -1 -1\n",
      " -1  1 -1  1 -1  1 -1  1  1 -1  1 -1 -1  1  1  1  1  1 -1  1  1  1  1  1\n",
      " -1 -1 -1 -1  1  1  1  1 -1 -1 -1  1 -1  1  1 -1 -1 -1 -1  1  1 -1  1  1\n",
      "  1  1  1  1 -1 -1  1  1  1  1 -1  1  1  1  1  1  1  1 -1  1  1  1 -1  1\n",
      " -1  1 -1 -1  1  1 -1 -1  1  1  1  1  1  1  1  1  1  1 -1  1  1]\n",
      "0.5029940119760479\n",
      "0.5029940119760479\n"
     ]
    },
    {
     "data": {
      "text/html": [
       "<div>\n",
       "<style scoped>\n",
       "    .dataframe tbody tr th:only-of-type {\n",
       "        vertical-align: middle;\n",
       "    }\n",
       "\n",
       "    .dataframe tbody tr th {\n",
       "        vertical-align: top;\n",
       "    }\n",
       "\n",
       "    .dataframe thead th {\n",
       "        text-align: right;\n",
       "    }\n",
       "</style>\n",
       "<table border=\"1\" class=\"dataframe\">\n",
       "  <thead>\n",
       "    <tr style=\"text-align: right;\">\n",
       "      <th></th>\n",
       "      <th>result_game</th>\n",
       "    </tr>\n",
       "  </thead>\n",
       "  <tbody>\n",
       "    <tr>\n",
       "      <th>724</th>\n",
       "      <td>0</td>\n",
       "    </tr>\n",
       "    <tr>\n",
       "      <th>812</th>\n",
       "      <td>-1</td>\n",
       "    </tr>\n",
       "    <tr>\n",
       "      <th>1466</th>\n",
       "      <td>1</td>\n",
       "    </tr>\n",
       "    <tr>\n",
       "      <th>1469</th>\n",
       "      <td>1</td>\n",
       "    </tr>\n",
       "    <tr>\n",
       "      <th>51</th>\n",
       "      <td>1</td>\n",
       "    </tr>\n",
       "  </tbody>\n",
       "</table>\n",
       "</div>"
      ],
      "text/plain": [
       "      result_game\n",
       "724             0\n",
       "812            -1\n",
       "1466            1\n",
       "1469            1\n",
       "51              1"
      ]
     },
     "execution_count": 23,
     "metadata": {},
     "output_type": "execute_result"
    }
   ],
   "source": [
    "res = grid_model.predict(X_test)\n",
    "print(res)\n",
    "print(f1_score(y_test, res, average='micro'))\n",
    "print(accuracy_score(y_test, res))\n",
    "y_test.head()"
   ]
  },
  {
   "cell_type": "code",
   "execution_count": 25,
   "id": "476e97bc",
   "metadata": {},
   "outputs": [
    {
     "ename": "AttributeError",
     "evalue": "'GridSearchCV' object has no attribute 'feature_importances_'",
     "output_type": "error",
     "traceback": [
      "\u001b[1;31m---------------------------------------------------------------------------\u001b[0m",
      "\u001b[1;31mAttributeError\u001b[0m                            Traceback (most recent call last)",
      "Input \u001b[1;32mIn [25]\u001b[0m, in \u001b[0;36m<cell line: 1>\u001b[1;34m()\u001b[0m\n\u001b[1;32m----> 1\u001b[0m feature_importance \u001b[38;5;241m=\u001b[39m \u001b[43mgrid_model\u001b[49m\u001b[38;5;241;43m.\u001b[39;49m\u001b[43mfeature_importances_\u001b[49m\n\u001b[0;32m      2\u001b[0m sorted_idx \u001b[38;5;241m=\u001b[39m feature_importance\u001b[38;5;241m.\u001b[39margsort()[::\u001b[38;5;241m-\u001b[39m\u001b[38;5;241m1\u001b[39m]\n",
      "\u001b[1;31mAttributeError\u001b[0m: 'GridSearchCV' object has no attribute 'feature_importances_'"
     ]
    }
   ],
   "source": [
    "feature_importance = grid_model.feature_importances_\n",
    "sorted_idx = feature_importance.argsort()[::-1]"
   ]
  },
  {
   "cell_type": "code",
   "execution_count": 17,
   "id": "2c30b254",
   "metadata": {},
   "outputs": [
    {
     "data": {
      "image/png": "[encoded data removed]",
      "text/plain": [
       "<Figure size 1152x720 with 1 Axes>"
      ]
     },
     "metadata": {
      "needs_background": "light"
     },
     "output_type": "display_data"
    }
   ],
   "source": [
    "sorted_feature_importance = feature_importance[sorted_idx]\n",
    "sorted_feature_names = X_train.columns[sorted_idx] \n",
    "plt.figure(figsize=(16, 10))\n",
    "plt.bar(range(len(sorted_feature_importance)), sorted_feature_importance, align=\"center\")\n",
    "plt.xticks(range(len(sorted_feature_importance)), sorted_feature_names, rotation=90)\n",
    "plt.xlabel(\"Feature\")\n",
    "plt.ylabel(\"Importance\")\n",
    "plt.title(\"Feature Importance\")\n",
    "plt.show()"
   ]
  },
  {
   "cell_type": "code",
   "execution_count": null,
   "id": "e4e80dd2",
   "metadata": {},
   "outputs": [],
   "source": []
  }
 ],
 "metadata": {
  "kernelspec": {
   "display_name": "Python 3 (ipykernel)",
   "language": "python",
   "name": "python3"
  },
  "language_info": {
   "codemirror_mode": {
    "name": "ipython",
    "version": 3
   },
   "file_extension": ".py",
   "mimetype": "text/x-python",
   "name": "python",
   "nbconvert_exporter": "python",
   "pygments_lexer": "ipython3",
   "version": "3.9.12"
  }
 },
 "nbformat": 4,
 "nbformat_minor": 5
}
